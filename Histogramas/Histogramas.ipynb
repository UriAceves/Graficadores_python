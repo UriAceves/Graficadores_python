{
 "metadata": {
  "name": "",
  "signature": "sha256:73282afa7ede86cf15a9ba1a6eb9d53e5d00c40047316b78955f46e61020f869"
 },
 "nbformat": 3,
 "nbformat_minor": 0,
 "worksheets": [
  {
   "cells": [
    {
     "cell_type": "code",
     "collapsed": false,
     "input": [
      "numero_de_datos = 512"
     ],
     "language": "python",
     "metadata": {},
     "outputs": [],
     "prompt_number": 1
    },
    {
     "cell_type": "heading",
     "level": 1,
     "metadata": {},
     "source": [
      "Graficaci\u00f3n de datos experimentales."
     ]
    },
    {
     "cell_type": "markdown",
     "metadata": {},
     "source": [
      "Este programa grafica datos que se encuentran en un archivo con un formato de dos columnas, en donde la primer columna representa el rango y la segunda los valores medidos."
     ]
    },
    {
     "cell_type": "code",
     "collapsed": false,
     "input": [
      "import matplotlib.pyplot as plt\n",
      "import numpy as np"
     ],
     "language": "python",
     "metadata": {},
     "outputs": [],
     "prompt_number": 2
    },
    {
     "cell_type": "code",
     "collapsed": false,
     "input": [
      "archivo = 'conj' + str(numero_de_datos) + '.dat'"
     ],
     "language": "python",
     "metadata": {},
     "outputs": [],
     "prompt_number": 3
    },
    {
     "cell_type": "code",
     "collapsed": false,
     "input": [
      "f2 = open(archivo, 'r') "
     ],
     "language": "python",
     "metadata": {},
     "outputs": [],
     "prompt_number": 4
    },
    {
     "cell_type": "code",
     "collapsed": false,
     "input": [
      "lineas = f2.readlines()\n",
      "f2.close() "
     ],
     "language": "python",
     "metadata": {},
     "outputs": [],
     "prompt_number": 5
    },
    {
     "cell_type": "code",
     "collapsed": false,
     "input": [
      "columnas = 512/numero_de_datos\n",
      "renglones = 512/columnas\n",
      "\n",
      "resultados = np.zeros((renglones,columnas + 1))\n",
      "\n",
      "idx1 = 0\n",
      "idx2 = 0\n",
      "\n",
      "for i in lineas:\n",
      "    a = i.split()\n",
      "    idx2 = 0\n",
      "    for j in a:\n",
      "        resultados[idx1][idx2] = j\n",
      "        idx2 += 1\n",
      "    idx1 +=1"
     ],
     "language": "python",
     "metadata": {},
     "outputs": [],
     "prompt_number": 13
    },
    {
     "cell_type": "code",
     "collapsed": false,
     "input": [
      "promedios = np.zeros(columnas)\n",
      "\n",
      "for k in range(1,columnas+1):\n",
      "    suma = 0.\n",
      "\n",
      "    for l in range(renglones):\n",
      "        suma = suma + resultados.T[k][l]\n",
      "\n",
      "    promedios[k-1] = suma/renglones\n",
      "\n",
      "promedios"
     ],
     "language": "python",
     "metadata": {},
     "outputs": [
      {
       "metadata": {},
       "output_type": "pyout",
       "prompt_number": 14,
       "text": [
        "array([ 0.5078125])"
       ]
      }
     ],
     "prompt_number": 14
    },
    {
     "cell_type": "code",
     "collapsed": false,
     "input": [
      "varianzas = np.zeros(columnas)\n",
      "\n",
      "for k in range(1,columnas+1):\n",
      "    sumita = 0.\n",
      "\n",
      "    for l in range(renglones):\n",
      "        sumita = sumita + (resultados.T[k][l])**2\n",
      "\n",
      "    varianzas[k-1] = (1./renglones)*sumita - promedios[k-1]**2\n",
      "\n",
      "varianzas"
     ],
     "language": "python",
     "metadata": {},
     "outputs": [
      {
       "metadata": {},
       "output_type": "pyout",
       "prompt_number": 15,
       "text": [
        "array([ 0.24993896])"
       ]
      }
     ],
     "prompt_number": 15
    },
    {
     "cell_type": "code",
     "collapsed": false,
     "input": [
      "%matplotlib inline\n",
      "\n",
      "if numero_de_datos == 32 or numero_de_datos == 64:\n",
      "    anchura = 0.5\n",
      "elif numero_de_datos == 128:\n",
      "    anchura = 0.25\n",
      "elif numero_de_datos == 256:\n",
      "    anchura = 0.10\n",
      "elif numero_de_datos == 512:\n",
      "    anchura = 0.0001\n",
      "    \n",
      "for k in range(1,columnas+1):\n",
      "\n",
      "    prom_cad = \", $<x>$ = \" + str(round(promedios[k-1],6))\n",
      "    var_cad = \", $\\sigma^2$ = \" + str(round(varianzas[k-1],6))\n",
      "    title = str(renglones) + \" datos\" + prom_cad + var_cad\n",
      "\n",
      "    fig = plt.figure()\n",
      "    ax1 = fig.add_subplot(111)\n",
      "\n",
      "    ax1.bar(resultados.T[0]-1, resultados.T[k]+0.5,color='black',width = anchura)\n",
      "    plt.title(title,size=14)\n",
      "    plt.xlabel(\"Tiradas\", size=14)\n",
      "    plt.xlim(0,renglones)\n",
      "    plt.setp(ax1.get_yticklabels(),visible=False)\n",
      "\n",
      "    imagen = str(renglones) + \"_datos_histograma_\" + str(k) + \".pdf\"\n",
      "\n",
      "    plt.savefig(imagen)"
     ],
     "language": "python",
     "metadata": {},
     "outputs": [
      {
       "metadata": {},
       "output_type": "display_data",
       "png": "[encoded data removed]",
       "text": [
        "<matplotlib.figure.Figure at 0x7f13c09be850>"
       ]
      }
     ],
     "prompt_number": 16
    },
    {
     "cell_type": "code",
     "collapsed": false,
     "input": [],
     "language": "python",
     "metadata": {},
     "outputs": []
    }
   ],
   "metadata": {}
  }
 ]
}