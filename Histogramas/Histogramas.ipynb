{
 "metadata": {
  "name": "",
  "signature": "sha256:722a7e1dd5a4ce6db7b0350eb39d8dd7c4640655f459f2ac69aa8e609b9351f1"
 },
 "nbformat": 3,
 "nbformat_minor": 0,
 "worksheets": [
  {
   "cells": [
    {
     "cell_type": "heading",
     "level": 1,
     "metadata": {},
     "source": [
      "Programa en python para graficar datos en archivos .dat"
     ]
    },
    {
     "cell_type": "heading",
     "level": 2,
     "metadata": {},
     "source": [
      "Introducci\u00f3n"
     ]
    },
    {
     "cell_type": "markdown",
     "metadata": {},
     "source": [
      "Este programa se encarga de leer archivos en formato .dat y hacer histogramas a partir de los datos ah\u00ed presentes, en particular en esta carpeta se tienen los datos organizados en archivos con columnas de 512, 256, 128, 64 y 32 datos; \u00e9stos valores son los aceptados por la variable ```numero_de_datos```, \u00e9ste caso requiere cierta automatizaci\u00f3n, ya que para cada histograma es necesario calcular el valor promedio y la desviaci\u00f3n est\u00e1ndar.\n",
      "\n",
      "M\u00e1s detalles acerca del problema a resolver pueden encontrarse en el ejercicio cinco de [este documento](https://github.com/UriAceves/Graficadores_python/blob/master/Histogramas/Tarea1.pdf?raw=true)"
     ]
    },
    {
     "cell_type": "code",
     "collapsed": false,
     "input": [
      "numero_de_datos = 128"
     ],
     "language": "python",
     "metadata": {},
     "outputs": [],
     "prompt_number": 1
    },
    {
     "cell_type": "heading",
     "level": 2,
     "metadata": {},
     "source": [
      "Graficaci\u00f3n de datos experimentales"
     ]
    },
    {
     "cell_type": "markdown",
     "metadata": {},
     "source": [
      "Primero importamos las cosas que vamos a necesitar"
     ]
    },
    {
     "cell_type": "code",
     "collapsed": false,
     "input": [
      "import matplotlib.pyplot as plt\n",
      "import numpy as np"
     ],
     "language": "python",
     "metadata": {},
     "outputs": [],
     "prompt_number": 2
    },
    {
     "cell_type": "markdown",
     "metadata": {},
     "source": [
      "Para hacer automatizado todo definimos una variable ```archivo``` que almacene el nombre del archivo, los archivos se llaman *conj* seguidos por el n\u00famero de datos que contiene cada una de sus columnas y terminando con *.dat*; por ejemplo, el archivo que tiene almacenados conjuntos de 256 datos se llama **conj256.dat**"
     ]
    },
    {
     "cell_type": "code",
     "collapsed": false,
     "input": [
      "archivo = 'conj' + str(numero_de_datos) + '.dat'"
     ],
     "language": "python",
     "metadata": {},
     "outputs": [],
     "prompt_number": 3
    },
    {
     "cell_type": "markdown",
     "metadata": {},
     "source": [
      "Abrimos el archivo, leemos las lineas y lo cerramos."
     ]
    },
    {
     "cell_type": "code",
     "collapsed": false,
     "input": [
      "f2 = open(archivo, 'r') "
     ],
     "language": "python",
     "metadata": {},
     "outputs": [],
     "prompt_number": 4
    },
    {
     "cell_type": "code",
     "collapsed": false,
     "input": [
      "lineas = f2.readlines()\n",
      "f2.close() "
     ],
     "language": "python",
     "metadata": {},
     "outputs": [],
     "prompt_number": 5
    },
    {
     "cell_type": "markdown",
     "metadata": {},
     "source": [
      "Ahora llenamos una matriz con los datos que acabamos de leer, para que \u00e9stos sean m\u00e1s accesibles a la hora de graficar."
     ]
    },
    {
     "cell_type": "code",
     "collapsed": false,
     "input": [
      "columnas = 512/numero_de_datos\n",
      "renglones = 512/columnas\n",
      "\n",
      "resultados = np.zeros((renglones,columnas + 1))\n",
      "\n",
      "idx1 = 0\n",
      "idx2 = 0\n",
      "\n",
      "for i in lineas:\n",
      "    a = i.split()\n",
      "    idx2 = 0\n",
      "    for j in a:\n",
      "        resultados[idx1][idx2] = j\n",
      "        idx2 += 1\n",
      "    idx1 +=1"
     ],
     "language": "python",
     "metadata": {},
     "outputs": [],
     "prompt_number": 6
    },
    {
     "cell_type": "markdown",
     "metadata": {},
     "source": [
      "Ahora pasamos al problema de calcular promedios para cada una de las columnas de datos que tenemos en el archivo."
     ]
    },
    {
     "cell_type": "code",
     "collapsed": false,
     "input": [
      "promedios = np.zeros(columnas)\n",
      "\n",
      "for k in range(1,columnas+1):\n",
      "    suma = 0.\n",
      "\n",
      "    for l in range(renglones):\n",
      "        suma = suma + resultados.T[k][l]\n",
      "\n",
      "    promedios[k-1] = suma/renglones"
     ],
     "language": "python",
     "metadata": {},
     "outputs": [],
     "prompt_number": 7
    },
    {
     "cell_type": "markdown",
     "metadata": {},
     "source": [
      "Seguido de las varianzas."
     ]
    },
    {
     "cell_type": "code",
     "collapsed": false,
     "input": [
      "varianzas = np.zeros(columnas)\n",
      "\n",
      "for k in range(1,columnas+1):\n",
      "    sumita = 0.\n",
      "\n",
      "    for l in range(renglones):\n",
      "        sumita = sumita + (resultados.T[k][l])**2\n",
      "\n",
      "    varianzas[k-1] = (1./renglones)*sumita - promedios[k-1]**2"
     ],
     "language": "python",
     "metadata": {},
     "outputs": [],
     "prompt_number": 8
    },
    {
     "cell_type": "markdown",
     "metadata": {},
     "source": [
      "Por \u00faltimo nos encargamos de la parte de la graficaci\u00f3n."
     ]
    },
    {
     "cell_type": "code",
     "collapsed": false,
     "input": [
      "%matplotlib inline\n",
      "\n",
      "if numero_de_datos == 32 or numero_de_datos == 64:\n",
      "    anchura = 0.5\n",
      "elif numero_de_datos == 128:\n",
      "    anchura = 0.25\n",
      "elif numero_de_datos == 256:\n",
      "    anchura = 0.10\n",
      "elif numero_de_datos == 512:\n",
      "    anchura = 0.0001\n",
      "    \n",
      "for k in range(1,columnas+1):\n",
      "\n",
      "    prom_cad = \", $<x>$ = \" + str(round(promedios[k-1],6))\n",
      "    var_cad = \", $\\sigma^2$ = \" + str(round(varianzas[k-1],6))\n",
      "    title = str(renglones) + \" datos\" + prom_cad + var_cad\n",
      "\n",
      "    fig = plt.figure()\n",
      "    ax1 = fig.add_subplot(111)\n",
      "\n",
      "    ax1.bar(resultados.T[0]-1, resultados.T[k]+0.5,color='black',width = anchura)\n",
      "    plt.title(title,size=14)\n",
      "    plt.xlabel(\"Tiradas\", size=14)\n",
      "    plt.xlim(0,renglones)\n",
      "    plt.setp(ax1.get_yticklabels(),visible=False)\n",
      "\n",
      "    imagen = str(renglones) + \"_datos_histograma_\" + str(k) + \".pdf\"\n",
      "\n",
      "    plt.savefig(imagen)"
     ],
     "language": "python",
     "metadata": {},
     "outputs": [
      {
       "metadata": {},
       "output_type": "display_data",
       "png": "[encoded data removed]",
       "text": [
        "<matplotlib.figure.Figure at 0x7f53f8af7d90>"
       ]
      },
      {
       "metadata": {},
       "output_type": "display_data",
       "png": "[encoded data removed]",
       "text": [
        "<matplotlib.figure.Figure at 0x7f53f8b2f650>"
       ]
      },
      {
       "metadata": {},
       "output_type": "display_data",
       "png": "[encoded data removed]",
       "text": [
        "<matplotlib.figure.Figure at 0x7f53f563d5d0>"
       ]
      },
      {
       "metadata": {},
       "output_type": "display_data",
       "png": "[encoded data removed]",
       "text": [
        "<matplotlib.figure.Figure at 0x7f53f2f04d90>"
       ]
      }
     ],
     "prompt_number": 9
    },
    {
     "cell_type": "code",
     "collapsed": false,
     "input": [
      "def array_a_binario(arreglo):\n",
      "    cadena = ''\n",
      "    for i in arreglo:\n",
      "        cadena = cadena + str(int(i))\n",
      "    return cadena[::-1]"
     ],
     "language": "python",
     "metadata": {},
     "outputs": [],
     "prompt_number": 17
    },
    {
     "cell_type": "code",
     "collapsed": false,
     "input": [
      "def binario_a_decimal(arreglo):\n",
      "    total = 0\n",
      "    for i in range(len(arreglo)):\n",
      "        total = total + (2**i)*int(arreglo[len(arreglo)-1-i])\n",
      "    return total    "
     ],
     "language": "python",
     "metadata": {},
     "outputs": [],
     "prompt_number": 40
    }
   ],
   "metadata": {}
  }
 ]
}