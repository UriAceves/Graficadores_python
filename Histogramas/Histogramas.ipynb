{
 "metadata": {
  "name": "",
  "signature": "sha256:6bd37516f6ba508006bff428e30135bb4a5c6f0961350d21fc1e14db77afbf3d"
 },
 "nbformat": 3,
 "nbformat_minor": 0,
 "worksheets": [
  {
   "cells": [
    {
     "cell_type": "heading",
     "level": 1,
     "metadata": {},
     "source": [
      "Graficaci\u00f3n de datos experimentales."
     ]
    },
    {
     "cell_type": "markdown",
     "metadata": {},
     "source": [
      "Este programa grafica datos que se encuentran en un archivo con un formato de dos columnas, en donde la primer columna representa el rango y la segunda los valores medidos."
     ]
    },
    {
     "cell_type": "code",
     "collapsed": false,
     "input": [
      "import matplotlib.pyplot as plt\n",
      "import numpy as np"
     ],
     "language": "python",
     "metadata": {},
     "outputs": [],
     "prompt_number": 33
    },
    {
     "cell_type": "code",
     "collapsed": false,
     "input": [
      "archivo = 'r3.dat'"
     ],
     "language": "python",
     "metadata": {},
     "outputs": [],
     "prompt_number": 34
    },
    {
     "cell_type": "code",
     "collapsed": false,
     "input": [
      "f2 = open(archivo, 'r') "
     ],
     "language": "python",
     "metadata": {},
     "outputs": [],
     "prompt_number": 35
    },
    {
     "cell_type": "code",
     "collapsed": false,
     "input": [
      "lineas = f2.readlines()\n",
      "f2.close() "
     ],
     "language": "python",
     "metadata": {},
     "outputs": [],
     "prompt_number": 36
    },
    {
     "cell_type": "code",
     "collapsed": false,
     "input": [
      "x1 = []\n",
      "y1 = []\n",
      "\n",
      "for i in lineas:\n",
      "    a = i.split()\n",
      "    x = float(a[0])\n",
      "    y = float(a[1])\n",
      "    x1.append(x)\n",
      "    y1.append(y) "
     ],
     "language": "python",
     "metadata": {},
     "outputs": [],
     "prompt_number": 37
    },
    {
     "cell_type": "code",
     "collapsed": false,
     "input": [
      "x = np.array(x1)\n",
      "y = np.array(y1) "
     ],
     "language": "python",
     "metadata": {},
     "outputs": [],
     "prompt_number": 38
    },
    {
     "cell_type": "code",
     "collapsed": false,
     "input": [
      "%matplotlib inline\n",
      "plt.plot(x,y, 'o')"
     ],
     "language": "python",
     "metadata": {},
     "outputs": [
      {
       "metadata": {},
       "output_type": "pyout",
       "prompt_number": 39,
       "text": [
        "[<matplotlib.lines.Line2D at 0x7fd54c7115d0>]"
       ]
      },
      {
       "metadata": {},
       "output_type": "display_data",
       "png": "[encoded data removed]",
       "text": [
        "<matplotlib.figure.Figure at 0x7fd54c702b10>"
       ]
      }
     ],
     "prompt_number": 39
    },
    {
     "cell_type": "heading",
     "level": 2,
     "metadata": {},
     "source": [
      "Ajuste de curvas."
     ]
    },
    {
     "cell_type": "markdown",
     "metadata": {},
     "source": [
      "Hasta aqu\u00ed s\u00f3lo grafica los datos, el siguiente paso hace una interpolaci\u00f3n polinomial y grafica el polinomio resultante junto con los datos obtenidos."
     ]
    },
    {
     "cell_type": "code",
     "collapsed": false,
     "input": [
      "from scipy import stats"
     ],
     "language": "python",
     "metadata": {},
     "outputs": [],
     "prompt_number": 40
    },
    {
     "cell_type": "code",
     "collapsed": false,
     "input": [
      "regr = stats.linregress(x,y)\n",
      "p = np.poly1d([regr[0], regr[1]])"
     ],
     "language": "python",
     "metadata": {},
     "outputs": [],
     "prompt_number": 41
    },
    {
     "cell_type": "code",
     "collapsed": false,
     "input": [
      "y2 = p(x)"
     ],
     "language": "python",
     "metadata": {},
     "outputs": [],
     "prompt_number": 42
    },
    {
     "cell_type": "code",
     "collapsed": false,
     "input": [
      "#plt.plot(x,y, 'o', label='Datos medidos', alpha=0.5)\n",
      "plt.plot(x,y2, label='Ajuste lineal')\n",
      "plt.errorbar(x, y, yerr=0.005, fmt='o', label='Datos medidos', ecolor='r', alpha=0.6, color='g')\n",
      "\n",
      "plt.title('Resistencia de 150 $\\Omega$', fontsize= 16)\n",
      "plt.xlabel('Voltaje ($V$)', fontsize=14)\n",
      "plt.ylabel('Corriente ($mA$)', fontsize=14)\n",
      "plt.legend(loc=2)\n",
      "plt.xlim([0,30.25])\n",
      "plt.ylim([0,22])\n",
      "#plt.savefig('resistencia3.png')\n",
      "#plt.savefig('resistencia3.pdf')"
     ],
     "language": "python",
     "metadata": {},
     "outputs": [
      {
       "metadata": {},
       "output_type": "pyout",
       "prompt_number": 43,
       "text": [
        "(0, 22)"
       ]
      },
      {
       "metadata": {},
       "output_type": "display_data",
       "png": "[encoded data removed]",
       "text": [
        "<matplotlib.figure.Figure at 0x7fd54c45dc90>"
       ]
      }
     ],
     "prompt_number": 43
    },
    {
     "cell_type": "heading",
     "level": 1,
     "metadata": {},
     "source": [
      "r de Pearson"
     ]
    },
    {
     "cell_type": "markdown",
     "metadata": {},
     "source": [
      "El valor de $r^2$ nos dice qu\u00e9 tan v\u00e1lida es la hip\u00f3tesis de que los valores se ajustan a un modelo lineal.\n",
      "Mientras m\u00e1s cerca est\u00e9 de 1 m\u00e1s acertada es la hip\u00f3tesis de que los datos est\u00e1n sobre una linea.\n",
      "\n",
      "- http://en.wikipedia.org/wiki/Coefficient_of_determination\n",
      "- http://en.wikipedia.org/wiki/Pearson_product-moment_correlation_coefficient"
     ]
    },
    {
     "cell_type": "code",
     "collapsed": false,
     "input": [
      "r = stats.linregress(x,y)[2]\n",
      "r**2\n",
      "r"
     ],
     "language": "python",
     "metadata": {},
     "outputs": [
      {
       "metadata": {},
       "output_type": "pyout",
       "prompt_number": 44,
       "text": [
        "0.99948919007653536"
       ]
      }
     ],
     "prompt_number": 44
    },
    {
     "cell_type": "markdown",
     "metadata": {},
     "source": [
      "Los valores de la $r^2$ para cada una de las regresiones fue de:\n",
      "\n",
      "- 0.99958255472849789\n",
      "- 0.99926207541129641\n",
      "- 0.99897864107984868\n",
      "\n",
      "El par\u00e1metro de Pearson fue de:\n",
      "\n",
      "- 0.99979125557713189\n",
      "- 0.99963096961393527\n",
      "- 0.99948919007653536"
     ]
    },
    {
     "cell_type": "code",
     "collapsed": false,
     "input": [
      "def amp(r,v):\n",
      "    return v/r"
     ],
     "language": "python",
     "metadata": {},
     "outputs": [],
     "prompt_number": 45
    },
    {
     "cell_type": "code",
     "collapsed": false,
     "input": [
      "r = 1.500\n",
      "u = amp(r,x)"
     ],
     "language": "python",
     "metadata": {},
     "outputs": [],
     "prompt_number": 46
    },
    {
     "cell_type": "code",
     "collapsed": false,
     "input": [
      "plt.plot(x,u, label=u'Valor te\u00f3rico')\n",
      "plt.errorbar(x, y, yerr=0.005, xerr=0.05,  fmt='o', label='Datos medidos', ecolor='r', alpha=0.6, color='g')\n",
      "\n",
      "plt.title('Resistencia de 1.5 k$\\Omega$', fontsize= 16)\n",
      "plt.xlabel('Voltaje ($V$)', fontsize=14)\n",
      "plt.ylabel('Corriente ($mA$)', fontsize=14)\n",
      "plt.legend(loc=2)\n",
      "plt.xlim([0,35.5])\n",
      "plt.ylim([0,25])\n",
      "#plt.savefig('teor3.png')\n",
      "#plt.savefig('teor3.pdf')"
     ],
     "language": "python",
     "metadata": {},
     "outputs": []
    },
    {
     "cell_type": "code",
     "collapsed": false,
     "input": [],
     "language": "python",
     "metadata": {},
     "outputs": [],
     "prompt_number": 47
    }
   ],
   "metadata": {}
  }
 ]
}